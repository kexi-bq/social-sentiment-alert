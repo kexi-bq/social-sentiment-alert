﻿{
 "cells": [
  {
   "cell_type": "markdown",
   "metadata": {},
   "source": [
    "# 📊 Анализ логов тональности из соцсетей\n",
    "\n",
    "Этот ноутбук позволяет:\n",
    "- Загрузить лог (`sentiment_log.csv`)\n",
    "- Построить графики упоминаний и тональности\n",
    "- Посмотреть, когда происходили всплески\n",
    "- Проанализировать распределение значений"
   ]
  },
  {
   "cell_type": "code",
   "execution_count": null,
   "metadata": {},
   "outputs": [],
   "source": [
    "import pandas as pd\n",
    "import matplotlib.pyplot as plt\n",
    "import seaborn as sns\n",
    "\n",
    "# Настройки отображения\n",
    "sns.set(style=\"whitegrid\")\n",
    "\n",
    "# Загрузка логов\n",
    "df = pd.read_csv(\"../logs/sentiment_log.csv\", parse_dates=[\"timestamp\"])\n",
    "df.head()"
   ]
  },
  {
   "cell_type": "code",
   "execution_count": null,
   "metadata": {},
   "outputs": [],
   "source": [
    "# Проверим структуру данных\n",
    "df.info()"
   ]
  },
  {
   "cell_type": "code",
   "execution_count": null,
   "metadata": {},
   "outputs": [],
   "source": [
    "# Группировка по времени: количество упоминаний\n",
    "mentions = df.groupby(\"timestamp\").size().reset_index(name=\"mentions\")\n",
    "\n",
    "plt.figure(figsize=(10, 4))\n",
    "sns.lineplot(data=mentions, x=\"timestamp\", y=\"mentions\")\n",
    "plt.title(\"Количество упоминаний по времени\")\n",
    "plt.xlabel(\"Время\")\n",
    "plt.ylabel(\"Упоминания\")\n",
    "plt.xticks(rotation=30)\n",
    "plt.grid(True)\n",
    "plt.tight_layout()\n",
    "plt.show()"
   ]
  },
  {
   "cell_type": "code",
   "execution_count": null,
   "metadata": {},
   "outputs": [],
   "source": [
    "# Средняя тональность по времени\n",
    "avg_sentiment = df.groupby(\"timestamp\")[\"sentiment\"].mean().reset_index()\n",
    "\n",
    "plt.figure(figsize=(10, 4))\n",
    "sns.lineplot(data=avg_sentiment, x=\"timestamp\", y=\"sentiment\")\n",
    "plt.title(\"Средняя тональность по времени\")\n",
    "plt.xlabel(\"Время\")\n",
    "plt.ylabel(\"Средняя тональность\")\n",
    "plt.axhline(0, color='gray', linestyle='--')\n",
    "plt.xticks(rotation=30)\n",
    "plt.grid(True)\n",
    "plt.tight_layout()\n",
    "plt.show()"
   ]
  },
  {
   "cell_type": "code",
   "execution_count": null,
   "metadata": {},
   "outputs": [],
   "source": [
    "# Распределение значений тональности\n",
    "plt.figure(figsize=(6, 4))\n",
    "sns.histplot(df[\"sentiment\"], bins=30, kde=True)\n",
    "plt.title(\"Распределение тональности\")\n",
    "plt.xlabel(\"Тональность\")\n",
    "plt.grid(True)\n",
    "plt.tight_layout()\n",
    "plt.show()"
   ]
  }
 ],
 "metadata": {
  "kernelspec": {
   "display_name": "Python 3",
   "language": "python",
   "name": "python3"
  },
  "language_info": {
   "name": "python",
   "version": ""
  }
 },
 "nbformat": 4,
 "nbformat_minor": 2
}
