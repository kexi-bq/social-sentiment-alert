﻿import pandas as pd
import psycopg2

conn = psycopg2.connect(
    dbname='sentiment_db',
    user='postgres',
    password='postgres',
    host='postgres',
    port='5432'
)

df = pd.read_sql("SELECT * FROM telegram_messages ORDER BY date DESC LIMIT 1000", conn)
df.head()
